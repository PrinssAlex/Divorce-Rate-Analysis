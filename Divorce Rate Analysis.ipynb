{
 "cells": [
  {
   "cell_type": "markdown",
   "id": "4b61628d",
   "metadata": {},
   "source": [
    "<a id='top'></a>\n",
    "## Reasons Behind Failed Marriages (Divorce) <br> [Iran as a Case Study]\n",
    "### By: P. A. Ogbodum\n",
    "\n",
    "<b> Contents Outline </b><br>\n",
    "- <a href = '#introduction'> Introduction </a>\n",
    "- <a href = '#data wrangling'> Data Wrangling </a>\n",
    "- <a href = '#eda'> Exploratory Data Analysis </a>\n",
    "- <a href = '#conclusion'> Conclusion </a>\n"
   ]
  },
  {
   "cell_type": "markdown",
   "id": "019681d0",
   "metadata": {},
   "source": [
    "<a id='introduction'></a>\n",
    "\n",
    "# Introduction\n",
    "\n",
    "**Data Set:** Marriage and Divorce Data set\n",
    "\n",
    "**Source:** [kaggle](https://www.kaggle.com/datasets/hosseinmousavi/marriage-and-divorce-dataset/download?datasetVersionNumber=1)\n",
    "\n",
    "**Description:** This data set was collected over a period of 5 years by a marriage counselor in tehran, Iran. It was intended to be used to develop an Evolutionary-Based Adaptive Neuro-Fuzzy Expert System to help reduce divorce rates in develop and developing countries, the article was published in 2017. It contains 31 variables/inputs that aids in achieving this. \n",
    "\n",
    "**Variables:** This data contains 31 columns (100x31). The first 30 columns are features (inputs), namely Age Gap, Education, Economic Similarity, Social Similarities, Cultural Similarities, Social Gap, Common Interests, Religion Compatibility, No of Children from Previous Marriage, Desire to Marry, Independency, Relationship with the Spouse Family, Trading in, Engagement Time, Love, Commitment, Mental Health, The Sense of Having Children, Previous Trading, Previous Marriage, The Proportion of Common Genes, Addiction, Loyalty, Height Ratio, Good Income, Self Confidence, Relation with Non-spouse Before Marriage, Spouse Confirmed by Family, Divorce in the Family of Grade 1 and Start Socializing with the Opposite Sex Age. The 31th column is Divorce Probability (Target).\n",
    "\n",
    "**Credit:** [Mousavi, S. M. H., MiriNezhad, S. Y., & Lyashenko, V, An evolutionary-based adaptive Neuro-fuzzy expert system as a family counselor before marriage with the aim of divorce rate reduction, 2nd International Conference on Research Knowledge Base in Computer, Tehran, Iran, (2017)](https://www.researchgate.net/profile/Seyed-Mousavi-17/publication/319176882_An_Evolutionary-Based_Adaptive_Neuro-Fuzzy_Expert_System_as_a_Family_Counselor_before_Marriage_with_the_Aim_of_Divorce_Rate_Reduction/links/599764b8aca272e41d368e8c/An-Evolutionary-Based-Adaptive-Neuro-Fuzzy-Expert-System-as-a-Family-Counselor-before-Marriage-with-the-Aim-of-Divorce-Rate-Reduction.pdf)\n",
    "\n",
    "**Analysis Question:** What was the most likely variable(s) responsible for a divorce\n",
    "\n",
    "**<a href='#top'>Go to first cell</a>**\n"
   ]
  },
  {
   "cell_type": "code",
   "execution_count": null,
   "id": "6d4b96e7",
   "metadata": {},
   "outputs": [],
   "source": []
  },
  {
   "cell_type": "markdown",
   "id": "1947002c",
   "metadata": {},
   "source": [
    "<a id='data wrangling'></a>\n",
    "**<a href='#top'>Go to first cell</a>**\n",
    "    \n",
    "# Data Wrangling"
   ]
  },
  {
   "cell_type": "code",
   "execution_count": null,
   "id": "6e53169f",
   "metadata": {},
   "outputs": [],
   "source": []
  },
  {
   "cell_type": "code",
   "execution_count": null,
   "id": "28100035",
   "metadata": {},
   "outputs": [],
   "source": []
  },
  {
   "cell_type": "markdown",
   "id": "5b2cedc4",
   "metadata": {},
   "source": [
    "<a id='eda'></a>\n",
    "**<a href='#top'>Go to first cell</a>**\n",
    "    \n",
    "# Exploratory Data Analysis"
   ]
  },
  {
   "cell_type": "code",
   "execution_count": null,
   "id": "23ce5dba",
   "metadata": {},
   "outputs": [],
   "source": []
  },
  {
   "cell_type": "code",
   "execution_count": null,
   "id": "26162c01",
   "metadata": {},
   "outputs": [],
   "source": []
  },
  {
   "cell_type": "markdown",
   "id": "65628055",
   "metadata": {},
   "source": [
    "<a id='conclusion'></a>\n",
    "**<a href='#top'>Go to first cell</a>**\n",
    "    \n",
    "# Conclusion"
   ]
  },
  {
   "cell_type": "code",
   "execution_count": null,
   "id": "c3b95324",
   "metadata": {},
   "outputs": [],
   "source": []
  },
  {
   "cell_type": "code",
   "execution_count": null,
   "id": "f07029d2",
   "metadata": {},
   "outputs": [],
   "source": []
  },
  {
   "cell_type": "code",
   "execution_count": null,
   "id": "018ab8da",
   "metadata": {},
   "outputs": [],
   "source": []
  },
  {
   "cell_type": "code",
   "execution_count": null,
   "id": "4f8fe64b",
   "metadata": {},
   "outputs": [],
   "source": []
  },
  {
   "cell_type": "code",
   "execution_count": null,
   "id": "49586100",
   "metadata": {},
   "outputs": [],
   "source": []
  },
  {
   "cell_type": "code",
   "execution_count": null,
   "id": "1599ab6c",
   "metadata": {},
   "outputs": [],
   "source": []
  },
  {
   "cell_type": "code",
   "execution_count": null,
   "id": "d754d243",
   "metadata": {},
   "outputs": [],
   "source": []
  },
  {
   "cell_type": "code",
   "execution_count": null,
   "id": "dee2818b",
   "metadata": {},
   "outputs": [],
   "source": []
  },
  {
   "cell_type": "code",
   "execution_count": null,
   "id": "13c4a38d",
   "metadata": {},
   "outputs": [],
   "source": []
  },
  {
   "cell_type": "code",
   "execution_count": null,
   "id": "21a12c8a",
   "metadata": {},
   "outputs": [],
   "source": []
  }
 ],
 "metadata": {
  "kernelspec": {
   "display_name": "Python 3 (ipykernel)",
   "language": "python",
   "name": "python3"
  },
  "language_info": {
   "codemirror_mode": {
    "name": "ipython",
    "version": 3
   },
   "file_extension": ".py",
   "mimetype": "text/x-python",
   "name": "python",
   "nbconvert_exporter": "python",
   "pygments_lexer": "ipython3",
   "version": "3.10.4"
  }
 },
 "nbformat": 4,
 "nbformat_minor": 5
}
